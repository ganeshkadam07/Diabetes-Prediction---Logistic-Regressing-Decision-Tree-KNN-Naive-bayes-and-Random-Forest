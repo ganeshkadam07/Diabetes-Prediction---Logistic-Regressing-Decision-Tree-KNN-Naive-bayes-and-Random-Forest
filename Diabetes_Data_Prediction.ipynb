{
 "cells": [
  {
   "cell_type": "markdown",
   "id": "54e6ee0a",
   "metadata": {},
   "source": [
    "# Diabetes Prediction - Logistic Regressing, Decision Tree,KNN,Naive bayes and Random Forest"
   ]
  },
  {
   "cell_type": "code",
   "execution_count": null,
   "id": "4fc35bd7",
   "metadata": {},
   "outputs": [],
   "source": [
    "# Import Libraries\n",
    "\n",
    "import numpy as np\n",
    "import pandas as pd\n",
    "from sklearn.preprocessing import LabelEncoder\n",
    "from sklearn.model_selection import train_test_split\n",
    "from sklearn.preprocessing import StandardScaler\n",
    "from sklearn.linear_model import LogisticRegression\n",
    "from sklearn.tree import DecisionTreeClassifier\n",
    "from sklearn.neighbors import KNeighborsClassifier\n",
    "from sklearn.naive_bayes import GaussianNB\n",
    "from sklearn.ensemble import RandomForestClassifier\n",
    "from sklearn.metrics import accuracy_score,confusion_matrix,classification_report\n",
    "import matplotlib.pyplot as plt\n",
    "import seaborn as sns"
   ]
  },
  {
   "cell_type": "code",
   "execution_count": null,
   "id": "786a3525",
   "metadata": {},
   "outputs": [],
   "source": [
    "# Load Data\n",
    "\n",
    "data=pd.read_csv('diabetes.csv')\n",
    "data.head()"
   ]
  },
  {
   "cell_type": "code",
   "execution_count": null,
   "id": "5097b053",
   "metadata": {},
   "outputs": [],
   "source": [
    "data.isna().sum()"
   ]
  },
  {
   "cell_type": "code",
   "execution_count": null,
   "id": "9a28fa1d",
   "metadata": {},
   "outputs": [],
   "source": [
    "# Deviding a Data into two parts for Training and Testing\n",
    "\n",
    "x=data.iloc[:,:-1].values\n",
    "y=data.iloc[:,-1].values\n",
    "x\n",
    "y"
   ]
  },
  {
   "cell_type": "code",
   "execution_count": null,
   "id": "a37e188c",
   "metadata": {},
   "outputs": [],
   "source": [
    "# Training and Testing a Data\n",
    "\n",
    "x_train,x_test,y_train,y_test=train_test_split(x,y,test_size=30,random_state=0)\n",
    "x_train\n",
    "y_train"
   ]
  },
  {
   "cell_type": "code",
   "execution_count": null,
   "id": "5cd1b931",
   "metadata": {},
   "outputs": [],
   "source": [
    "# Scale the Data\n",
    "\n",
    "sc=StandardScaler()\n",
    "x_train=sc.fit_transform(x_train)\n",
    "x_test=sc.fit_transform(x_test)"
   ]
  },
  {
   "cell_type": "code",
   "execution_count": null,
   "id": "43447145",
   "metadata": {},
   "outputs": [],
   "source": [
    "# Build a Classification models \n",
    "\n",
    "lr=LogisticRegression()\n",
    "dtc=DecisionTreeClassifier(criterion='gini',random_state=0)\n",
    "knn=KNeighborsClassifier()\n",
    "nb=GaussianNB()\n",
    "rfc=RandomForestClassifier()"
   ]
  },
  {
   "cell_type": "code",
   "execution_count": null,
   "id": "518f122a",
   "metadata": {},
   "outputs": [],
   "source": [
    "# Train the Classification Models \n",
    "\n",
    "Log_reg=lr.fit(x_train,y_train)\n",
    "Dec_Tree=dtc.fit(x_train,y_train)\n",
    "KNN=knn.fit(x_train,y_train)\n",
    "NB=nb.fit(x_train,y_train)\n",
    "Ran_For=rfc.fit(x_train,y_train)"
   ]
  },
  {
   "cell_type": "code",
   "execution_count": null,
   "id": "d31d993b",
   "metadata": {},
   "outputs": [],
   "source": [
    "Log_reg,Dec_Tree,KNN,NB,Ran_For"
   ]
  },
  {
   "cell_type": "code",
   "execution_count": null,
   "id": "a0e6a988",
   "metadata": {},
   "outputs": [],
   "source": [
    "# Make Prediction of testing Data\n",
    "\n",
    "# 1] Logitic Regression\n",
    "y_pred_lr=Log_reg.predict(x_test)\n",
    "\n",
    "# 2] Dicision Tree\n",
    "y_pred_dt=Dec_Tree.predict(x_test)\n",
    "\n",
    "# 3] KNearest Neighbour\n",
    "y_pred_knn=KNN.predict(x_test)\n",
    "\n",
    "# 4] Naive Bayes --> GaussionNB\n",
    "y_pred_nb=NB.predict(x_test)\n",
    "\n",
    "# 5] Random Forest\n",
    "y_pred_rf=Ran_For.predict(x_test)"
   ]
  },
  {
   "cell_type": "code",
   "execution_count": null,
   "id": "4f850527",
   "metadata": {},
   "outputs": [],
   "source": [
    "y_pred_lr,y_pred_dt,y_pred_knn,y_pred_nb,y_pred_rf"
   ]
  },
  {
   "cell_type": "code",
   "execution_count": null,
   "id": "a0c02fbb",
   "metadata": {},
   "outputs": [],
   "source": [
    "# Accuracy Score \n",
    "# 1] Logitic Regression\n",
    "print('Accuracy Score:',accuracy_score(y_test,y_pred_lr))"
   ]
  },
  {
   "cell_type": "code",
   "execution_count": null,
   "id": "5d460cd9",
   "metadata": {},
   "outputs": [],
   "source": [
    "# 2] Decision Tree\n",
    "print('Accuracy Score:',accuracy_score(y_test,y_pred_dt))"
   ]
  },
  {
   "cell_type": "code",
   "execution_count": null,
   "id": "f9ae9b67",
   "metadata": {},
   "outputs": [],
   "source": [
    "# 3] KNEarest Neighbour\n",
    "print('Accuracy Score:',accuracy_score(y_test,y_pred_knn))"
   ]
  },
  {
   "cell_type": "code",
   "execution_count": null,
   "id": "d1c2706c",
   "metadata": {},
   "outputs": [],
   "source": [
    "# 4] Naive Bayes\n",
    "print('Accuracy Score:',accuracy_score(y_test,y_pred_nb))"
   ]
  },
  {
   "cell_type": "code",
   "execution_count": null,
   "id": "53da60e0",
   "metadata": {},
   "outputs": [],
   "source": [
    "# 5] Random Forest\n",
    "print('Accuracy Score:',accuracy_score(y_test,y_pred_rf))"
   ]
  },
  {
   "cell_type": "code",
   "execution_count": null,
   "id": "dcc2df06",
   "metadata": {},
   "outputs": [],
   "source": [
    "# Classification Report \n",
    "# 1] Logistic Regression\n",
    "print('Classification Report :',classification_report(y_test,y_pred_lr)),\n",
    "# 2] Decision Tree\n",
    "print('Classification Report :',classification_report(y_test,y_pred_dt)),\n",
    "# 3] KNearest Neighbour\n",
    "print('Classification Report :',classification_report(y_test,y_pred_knn)),\n",
    "# 4] Naive Bayes\n",
    "print('Classification Report :',classification_report(y_test,y_pred_nb)),\n",
    "# 5] Random Forest\n",
    "print('Classification Report :',classification_report(y_test,y_pred_rf)),"
   ]
  },
  {
   "cell_type": "code",
   "execution_count": null,
   "id": "55fb36ff",
   "metadata": {},
   "outputs": [],
   "source": [
    "# Visualization on Testing  Data\n",
    "# 1] Logistic regression\n",
    "x=x_test[:,0]\n",
    "y=x_test[:,-1]\n",
    "c=y_test\n",
    "plt.scatter(x,y,c=c)"
   ]
  },
  {
   "cell_type": "code",
   "execution_count": null,
   "id": "f280275a",
   "metadata": {},
   "outputs": [],
   "source": [
    "# Visualization on predicted Data\n",
    "# 1] Logistic regression\n",
    "x=x_test[:,0]\n",
    "y=x_test[:,-1]\n",
    "c=y_pred_lr\n",
    "plt.scatter(x,y,c=c)"
   ]
  },
  {
   "cell_type": "code",
   "execution_count": null,
   "id": "4d78dfce",
   "metadata": {},
   "outputs": [],
   "source": [
    "# Visualization on Predicted Data\n",
    "# 2]Decision Tree\n",
    "x=x_test[:,0]\n",
    "y=x_test[:,-1]\n",
    "c=y_pred_dt\n",
    "plt.scatter(x,y,c=c)"
   ]
  },
  {
   "cell_type": "code",
   "execution_count": null,
   "id": "799f5081",
   "metadata": {},
   "outputs": [],
   "source": [
    "# Visualization on Predicted Data\n",
    "# 3]Knearest Neigbour\n",
    "x=x_test[:,0]\n",
    "y=x_test[:,-1]\n",
    "c=y_pred_knn\n",
    "plt.scatter(x,y,c=c)"
   ]
  },
  {
   "cell_type": "code",
   "execution_count": null,
   "id": "c44f78b7",
   "metadata": {},
   "outputs": [],
   "source": [
    "# Visualization on Predicted Data\n",
    "# 4]Naive Bayes\n",
    "x=x_test[:,0]\n",
    "y=x_test[:,-1]\n",
    "c=y_pred_nb\n",
    "plt.scatter(x,y,c=c)"
   ]
  },
  {
   "cell_type": "code",
   "execution_count": null,
   "id": "6da308b9",
   "metadata": {},
   "outputs": [],
   "source": [
    "# Visualization on Predicted Data\n",
    "# 5]Random Forest\n",
    "x=x_test[:,0]\n",
    "y=x_test[:,-1]\n",
    "c=y_pred_rf\n",
    "plt.scatter(x,y,c=c)"
   ]
  },
  {
   "cell_type": "code",
   "execution_count": null,
   "id": "d4009905",
   "metadata": {},
   "outputs": [],
   "source": []
  }
 ],
 "metadata": {
  "kernelspec": {
   "display_name": "Python 3 (ipykernel)",
   "language": "python",
   "name": "python3"
  },
  "language_info": {
   "codemirror_mode": {
    "name": "ipython",
    "version": 3
   },
   "file_extension": ".py",
   "mimetype": "text/x-python",
   "name": "python",
   "nbconvert_exporter": "python",
   "pygments_lexer": "ipython3",
   "version": "3.9.13"
  }
 },
 "nbformat": 4,
 "nbformat_minor": 5
}
